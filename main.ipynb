import pretty_midi
import sys

#or should we take the command lines?
print input("Please Type the name of the song.")
x = input("Please Type the name of the song.")

while...:
  arg1 = sys.argv[1]
  arg2 = sys.argv[2]
  arg3 = sys.argv[3]
  arg4 = sys.argv[4]
  arg5 = sys.argv[5]
