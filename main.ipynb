import pretty_midi
import sys

print input("Please type the name of the song.")

arg = sys.argv
#when the user does not type the name
if arg is None:
  print("Please type the name of the song.")

#put the name into an array called arg
for i in range(len(sys,argv)):
  arg[i] = sys.argv[i]

