{
 "cells": [
  {
   "cell_type": "code",
   "execution_count": 31,
   "metadata": {
    "collapsed": true
   },
   "outputs": [],
   "source": [
    "\"\"\"imports\"\"\"\n",
    "import random\n",
    "import pretty_midi"
   ]
  },
  {
   "cell_type": "code",
   "execution_count": 32,
   "metadata": {
    "collapsed": true
   },
   "outputs": [],
   "source": [
    "\"\"\"setup\"\"\"\n",
    "num_notes = 6\n",
    "possible_durations = [0.125, 0.25, 0.5, 0.75, 1]"
   ]
  },
  {
   "cell_type": "code",
   "execution_count": 33,
   "metadata": {},
   "outputs": [
    {
     "name": "stdout",
     "output_type": "stream",
     "text": [
      "What to call this song?\n",
      "bb\n"
     ]
    }
   ],
   "source": [
    "\"\"\"initialize random with seed\"\"\"\n",
    "print(\"What to call this song?\")\n",
    "name = input()\n",
    "seed = 0\n",
    "for c in name:\n",
    "    seed += ord(c)\n",
    "random.seed(seed)"
   ]
  },
  {
   "cell_type": "code",
   "execution_count": 34,
   "metadata": {
    "collapsed": true
   },
   "outputs": [],
   "source": [
    "\"\"\"make some music!\"\"\"\n",
    "\n",
    "# store music here\n",
    "kick = []\n",
    "\n",
    "# choose until we have num_notes\n",
    "while len(kick) < num_notes:\n",
    "    \n",
    "    pitch = 60\n",
    "    \n",
    "    # random duration\n",
    "    duration = random.choice(possible_durations)\n",
    "    \n",
    "    # add it to my music\n",
    "    kick += [(pitch, duration)]"
   ]
  },
  {
   "cell_type": "code",
   "execution_count": 35,
   "metadata": {},
   "outputs": [
    {
     "data": {
      "text/plain": [
       "[(60, 1), (60, 0.125), (60, 0.25), (60, 0.75), (60, 0.5), (60, 0.125)]"
      ]
     },
     "execution_count": 35,
     "metadata": {},
     "output_type": "execute_result"
    }
   ],
   "source": [
    "\"\"\"sanity check\"\"\"\n",
    "kick"
   ]
  },
  {
   "cell_type": "code",
   "execution_count": null,
   "metadata": {
    "collapsed": true
   },
   "outputs": [],
   "source": [
    "bass = []\n",
    "\n",
    "def recursion(start, end, depth) {\n",
    "    b = random.randint(1,depth) #base case @ 1\n",
    "    if (b < 1):\n",
    "        r = #place probability model\n",
    "        recursion(start, r, depth-1)\n",
    "        recursion(r, end, depth-1)\n",
    "        #parse probability model\n"
   ]
  },
  {
   "cell_type": "code",
   "execution_count": null,
   "metadata": {
    "collapsed": true
   },
   "outputs": [],
   "source": [
    "\"\"\"sanity check\"\"\"\n",
    "bass"
   ]
  },
  {
   "cell_type": "code",
   "execution_count": null,
   "metadata": {
    "collapsed": true
   },
   "outputs": [],
   "source": [
    "snare = []"
   ]
  },
  {
   "cell_type": "code",
   "execution_count": null,
   "metadata": {
    "collapsed": true
   },
   "outputs": [],
   "source": [
    "\"\"\"sanity check\"\"\"\n",
    "snare"
   ]
  },
  {
   "cell_type": "code",
   "execution_count": 40,
   "metadata": {
    "collapsed": true
   },
   "outputs": [],
   "source": [
    "\"\"\"write it to score\"\"\"\n",
    "\n",
    "# create a PrettyMIDI score\n",
    "score = pretty_midi.PrettyMIDI()\n",
    "\n",
    "# create an instrument\n",
    "ins = pretty_midi.Instrument(program=2,is_drum=True)\n",
    "\n",
    "# keep track of time\n",
    "current_time = 0\n",
    "\n",
    "# iterate through music\n",
    "for i,event in enumerate(kick):\n",
    "    \n",
    "    # unpack event\n",
    "    pitch, duration = event\n",
    "        \n",
    "    # create a new note\n",
    "    note = pretty_midi.Note(velocity=100, pitch=event[0], start=current_time, end=current_time+duration)\n",
    "    \n",
    "    # and add it to the instrument\n",
    "    ins.notes.append(note)\n",
    "    \n",
    "    # increment time\n",
    "    current_time = current_time + duration\n",
    "\n",
    "# add instrument to the score\n",
    "score.instruments.append(ins)"
   ]
  },
  {
   "cell_type": "code",
   "execution_count": 27,
   "metadata": {},
   "outputs": [
    {
     "ename": "NameError",
     "evalue": "name 'bass' is not defined",
     "output_type": "error",
     "traceback": [
      "\u001b[1;31m---------------------------------------------------------------------------\u001b[0m",
      "\u001b[1;31mNameError\u001b[0m                                 Traceback (most recent call last)",
      "\u001b[1;32m<ipython-input-27-a0c84a2a56d1>\u001b[0m in \u001b[0;36m<module>\u001b[1;34m()\u001b[0m\n\u001b[0;32m      6\u001b[0m \u001b[1;33m\u001b[0m\u001b[0m\n\u001b[0;32m      7\u001b[0m \u001b[1;31m# iterate through music\u001b[0m\u001b[1;33m\u001b[0m\u001b[1;33m\u001b[0m\u001b[0m\n\u001b[1;32m----> 8\u001b[1;33m \u001b[1;32mfor\u001b[0m \u001b[0mi\u001b[0m\u001b[1;33m,\u001b[0m\u001b[0mevent\u001b[0m \u001b[1;32min\u001b[0m \u001b[0menumerate\u001b[0m\u001b[1;33m(\u001b[0m\u001b[0mbass\u001b[0m\u001b[1;33m)\u001b[0m\u001b[1;33m:\u001b[0m\u001b[1;33m\u001b[0m\u001b[0m\n\u001b[0m\u001b[0;32m      9\u001b[0m \u001b[1;33m\u001b[0m\u001b[0m\n\u001b[0;32m     10\u001b[0m     \u001b[1;31m# unpack event\u001b[0m\u001b[1;33m\u001b[0m\u001b[1;33m\u001b[0m\u001b[0m\n",
      "\u001b[1;31mNameError\u001b[0m: name 'bass' is not defined"
     ]
    }
   ],
   "source": [
    "# create an instrument\n",
    "ins = pretty_midi.Instrument(program=0,is_drum=True)\n",
    "\n",
    "# keep track of time\n",
    "current_time = 0\n",
    "\n",
    "# iterate through music\n",
    "for i,event in enumerate(bass):\n",
    "    \n",
    "    # unpack event\n",
    "    pitch, duration = event\n",
    "        \n",
    "    # create a new note\n",
    "    note = pretty_midi.Note(velocity=100, pitch=event[0], start=current_time, end=current_time+duration)\n",
    "    \n",
    "    # and add it to the instrument\n",
    "    ins.notes.append(note)\n",
    "    \n",
    "    # increment time\n",
    "    current_time = current_time + duration\n",
    "\n",
    "# add instrument to the score\n",
    "score.instruments.append(ins)"
   ]
  },
  {
   "cell_type": "code",
   "execution_count": null,
   "metadata": {
    "collapsed": true
   },
   "outputs": [],
   "source": [
    "# create an instrument\n",
    "ins = pretty_midi.Instrument(is_drum=True)\n",
    "\n",
    "# keep track of time\n",
    "current_time = 0\n",
    "\n",
    "# iterate through music\n",
    "for i,event in enumerate(snare):\n",
    "    \n",
    "    # unpack event\n",
    "    pitch, duration = event\n",
    "        \n",
    "    # create a new note\n",
    "    note = pretty_midi.Note(velocity=100, pitch=event[0], start=current_time, end=current_time+duration)\n",
    "    \n",
    "    # and add it to the instrument\n",
    "    ins.notes.append(note)\n",
    "    \n",
    "    # increment time\n",
    "    current_time = current_time + duration\n",
    "\n",
    "# add instrument to the score\n",
    "score.instruments.append(ins)"
   ]
  },
  {
   "cell_type": "code",
   "execution_count": 42,
   "metadata": {},
   "outputs": [],
   "source": [
    "# write to file\n",
    "score.write('drumsolo.mid')"
   ]
  },
  {
   "cell_type": "code",
   "execution_count": null,
   "metadata": {
    "collapsed": true
   },
   "outputs": [],
   "source": []
  }
 ],
 "metadata": {
  "kernelspec": {
   "display_name": "Python 3",
   "language": "python",
   "name": "python3"
  },
  "language_info": {
   "codemirror_mode": {
    "name": "ipython",
    "version": 3
   },
   "file_extension": ".py",
   "mimetype": "text/x-python",
   "name": "python",
   "nbconvert_exporter": "python",
   "pygments_lexer": "ipython3",
   "version": "3.6.1"
  }
 },
 "nbformat": 4,
 "nbformat_minor": 2
}
