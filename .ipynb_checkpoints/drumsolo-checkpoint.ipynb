{
 "cells": [
  {
   "cell_type": "code",
   "execution_count": 1,
   "metadata": {
    "collapsed": true
   },
   "outputs": [],
   "source": [
    "\"\"\"imports\"\"\"\n",
    "import random\n",
    "import pretty_midi"
   ]
  },
  {
   "cell_type": "code",
   "execution_count": 2,
   "metadata": {
    "collapsed": true
   },
   "outputs": [],
   "source": [
    "\"\"\"setup\"\"\"\n",
    "num_notes = 16\n",
    "possible_pitches = [60,61,62,63,64,65,66,67,68,69,70,71]\n",
    "possible_durations = [0.125, 0.25, 0.5, 0.75, 1]"
   ]
  },
  {
   "cell_type": "markdown",
   "metadata": {},
   "source": [
    "# Instant Drum Solo\n",
    "\n",
    "((how to use))\n"
   ]
  },
  {
   "cell_type": "code",
   "execution_count": 3,
   "metadata": {
    "collapsed": true
   },
   "outputs": [],
   "source": [
    "\"\"\"introduce some rules\"\"\"\n",
    "\n",
    "def rule1(new_music, old_music):\n",
    "    \n",
    "    # if there is no prev music return True and skip the rest of the test\n",
    "    if len(old_music) == 0: return True\n",
    "\n",
    "    # unpack pitch from previous event\n",
    "    prev_pitch = old_music[-1][0]\n",
    "    \n",
    "    # unpack current pitch\n",
    "    curr_pitch = new_music[0]\n",
    "    \n",
    "    # apply rule\n",
    "    result = abs(curr_pitch - prev_pitch) <= 2    \n",
    "    \n",
    "    # return result\n",
    "    return result\n",
    "    \n",
    "rules = [rule1]"
   ]
  },
  {
   "cell_type": "code",
   "execution_count": null,
   "metadata": {
    "collapsed": true
   },
   "outputs": [],
   "source": []
  },
  {
   "cell_type": "code",
   "execution_count": null,
   "metadata": {
    "collapsed": true
   },
   "outputs": [],
   "source": []
  },
  {
   "cell_type": "code",
   "execution_count": null,
   "metadata": {
    "collapsed": true
   },
   "outputs": [],
   "source": []
  },
  {
   "cell_type": "code",
   "execution_count": null,
   "metadata": {
    "collapsed": true
   },
   "outputs": [],
   "source": []
  },
  {
   "cell_type": "code",
   "execution_count": null,
   "metadata": {
    "collapsed": true
   },
   "outputs": [],
   "source": []
  }
 ],
 "metadata": {
  "kernelspec": {
   "display_name": "Python 3",
   "language": "python",
   "name": "python3"
  },
  "language_info": {
   "codemirror_mode": {
    "name": "ipython",
    "version": 3
   },
   "file_extension": ".py",
   "mimetype": "text/x-python",
   "name": "python",
   "nbconvert_exporter": "python",
   "pygments_lexer": "ipython3",
   "version": "3.6.1"
  }
 },
 "nbformat": 4,
 "nbformat_minor": 2
}
