{
 "cells": [
  {
   "cell_type": "code",
   "execution_count": null,
   "metadata": {
    "collapsed": true
   },
   "outputs": [],
   "source": [
    "\"\"\"imports\"\"\"\n",
    "import random\n",
    "import pretty_midi"
   ]
  },
  {
   "cell_type": "code",
   "execution_count": null,
   "metadata": {},
   "outputs": [],
   "source": [
    "\"\"\"initialize random with seed\"\"\"\n",
    "pitch = 20\n",
    "\n",
    "print(\"What to call this song?\")\n",
    "name = input()\n",
    "seed = 0\n",
    "for c in name:\n",
    "    seed += ord(c)\n",
    "random.seed(seed)\n",
    "depth = random.randint(4,6)\n",
    "measures = 2**depth"
   ]
  },
  {
   "cell_type": "code",
   "execution_count": null,
   "metadata": {},
   "outputs": [],
   "source": [
    "\"\"\"make some music!\"\"\"\n",
    "\n",
    "# store music here\n",
    "kick = []\n",
    "\n",
    "num_notes = 6 + depth\n",
    "possible_durations = [0.125, 0.25, 0.5, 0.75, 1]\n",
    "\n",
    "# choose until we have num_notes\n",
    "while len(kick) < num_notes:\n",
    "    \n",
    "    # random duration\n",
    "    duration = random.choice(possible_durations)\n",
    "    \n",
    "    # add it to my music\n",
    "    kick += [(pitch, duration)]"
   ]
  },
  {
   "cell_type": "code",
   "execution_count": 67,
   "metadata": {},
   "outputs": [
    {
     "data": {
      "text/plain": [
       "[(20, 1), (20, 1), (20, 0.5), (20, 0.75), (20, 1), (20, 1)]"
      ]
     },
     "execution_count": 67,
     "metadata": {},
     "output_type": "execute_result"
    }
   ],
   "source": [
    "\"\"\"sanity check\"\"\"\n",
    "kick"
   ]
  },
  {
   "cell_type": "code",
   "execution_count": 68,
   "metadata": {},
   "outputs": [
    {
     "data": {
      "text/plain": [
       "[0,\n",
       " 0,\n",
       " 0,\n",
       " 0,\n",
       " 1,\n",
       " 0,\n",
       " 0,\n",
       " 0,\n",
       " 1,\n",
       " 1,\n",
       " 1,\n",
       " 1,\n",
       " 1,\n",
       " 0,\n",
       " 1,\n",
       " 0,\n",
       " 1,\n",
       " 1,\n",
       " 1,\n",
       " 0,\n",
       " 1,\n",
       " 1,\n",
       " 1,\n",
       " 0,\n",
       " 1,\n",
       " 0,\n",
       " 1,\n",
       " 0,\n",
       " 1,\n",
       " 1,\n",
       " 1,\n",
       " 0,\n",
       " 1,\n",
       " 1,\n",
       " 1,\n",
       " 0,\n",
       " 1,\n",
       " 0,\n",
       " 0,\n",
       " 0,\n",
       " 1,\n",
       " 0,\n",
       " 1,\n",
       " 1,\n",
       " 1,\n",
       " 1,\n",
       " 1,\n",
       " 1,\n",
       " 1,\n",
       " 1,\n",
       " 1,\n",
       " 1,\n",
       " 1,\n",
       " 1,\n",
       " 1,\n",
       " 1,\n",
       " 1,\n",
       " 1,\n",
       " 1,\n",
       " 1,\n",
       " 1,\n",
       " 0,\n",
       " 1,\n",
       " 1]"
      ]
     },
     "execution_count": 68,
     "metadata": {},
     "output_type": "execute_result"
    }
   ],
   "source": [
    "bass = []\n",
    "\n",
    "bassmodel = []\n",
    "\n",
    "for n in range(measures): bassmodel.append(0)\n",
    "\n",
    "def recursion(start, end, d):\n",
    "    if not d: return\n",
    "    b = random.randint(1,d*4) #base case @ 1\n",
    "    if (b > 1):\n",
    "        r = int(start + (end-start)/2)\n",
    "        bassmodel[r] = 1\n",
    "        recursion(start, r, d-1)\n",
    "        recursion(r, end, d-1)\n",
    "    \n",
    "recursion(0, measures, depth)\n",
    "\n",
    "bass += [list((pitch,0.125))]\n",
    "dot = 0\n",
    "for beat in bassmodel:\n",
    "    if beat == dot: \n",
    "        bass[-1][1] += 0.125\n",
    "    else:\n",
    "        tuple(bass[-1])\n",
    "        bass += [list((pitch,0.125))]\n",
    "    dot = beat\n",
    "tuple(bass[-1])\n",
    "\n",
    "bassmodel"
   ]
  },
  {
   "cell_type": "code",
   "execution_count": 69,
   "metadata": {},
   "outputs": [
    {
     "data": {
      "text/plain": [
       "[[20, 0.3],\n",
       " [20, 0.1],\n",
       " [20, 0.2],\n",
       " [20, 0.3],\n",
       " [20, 0.1],\n",
       " [20, 0.1],\n",
       " [20, 0.1],\n",
       " [20, 0.2],\n",
       " [20, 0.1],\n",
       " [20, 0.2],\n",
       " [20, 0.1],\n",
       " [20, 0.1],\n",
       " [20, 0.1],\n",
       " [20, 0.1],\n",
       " [20, 0.1],\n",
       " [20, 0.2],\n",
       " [20, 0.1],\n",
       " [20, 0.2],\n",
       " [20, 0.1],\n",
       " [20, 0.1],\n",
       " [20, 0.2],\n",
       " [20, 0.1],\n",
       " [20, 0.1],\n",
       " [20, 1.0000000000000002],\n",
       " [20, 0.1],\n",
       " [20, 0.15000000000000002]]"
      ]
     },
     "execution_count": 69,
     "metadata": {},
     "output_type": "execute_result"
    }
   ],
   "source": [
    "\"\"\"sanity check\"\"\"\n",
    "bass"
   ]
  },
  {
   "cell_type": "code",
   "execution_count": null,
   "metadata": {
    "collapsed": true
   },
   "outputs": [],
   "source": [
    "snare = []\n",
    "\n",
    "def recursion(start, end, depth) {\n",
    "    b = random.randint(1,depth) #base case @ 1\n",
    "    if (depth > 0):\n",
    "        r = #place probability model\n",
    "        recursion(start, r, depth-1)\n",
    "        recursion(r, end, depth-1)\n",
    "        #parse probability model\n",
    "    \n",
    "recursion(0, measures*4, 10)"
   ]
  },
  {
   "cell_type": "code",
   "execution_count": null,
   "metadata": {
    "collapsed": true
   },
   "outputs": [],
   "source": [
    "\"\"\"sanity check\"\"\"\n",
    "snare"
   ]
  },
  {
   "cell_type": "code",
   "execution_count": 59,
   "metadata": {
    "collapsed": true
   },
   "outputs": [],
   "source": [
    "\"\"\"write it to score\"\"\"\n",
    "\n",
    "# create a PrettyMIDI score\n",
    "score = pretty_midi.PrettyMIDI()\n",
    "\n",
    "# create an instrument\n",
    "ins = pretty_midi.Instrument(program=115)\n",
    "\n",
    "# keep track of time\n",
    "current_time = 0\n",
    "\n",
    "# iterate through music\n",
    "for i,event in enumerate(kick):\n",
    "    \n",
    "    # unpack event\n",
    "    pitch, duration = event\n",
    "        \n",
    "    # create a new note\n",
    "    note = pretty_midi.Note(velocity=100, pitch=event[0], start=current_time, end=current_time+duration)\n",
    "    \n",
    "    # and add it to the instrument\n",
    "    ins.notes.append(note)\n",
    "    \n",
    "    # increment time\n",
    "    current_time = current_time + duration\n",
    "\n",
    "# add instrument to the score\n",
    "score.instruments.append(ins)"
   ]
  },
  {
   "cell_type": "code",
   "execution_count": 60,
   "metadata": {},
   "outputs": [],
   "source": [
    "# create an instrument\n",
    "ins = pretty_midi.Instrument(program=116)\n",
    "\n",
    "# keep track of time\n",
    "current_time = 0\n",
    "\n",
    "# iterate through music\n",
    "for i,event in enumerate(bass):\n",
    "    \n",
    "    # unpack event\n",
    "    pitch, duration = event\n",
    "        \n",
    "    # create a new note\n",
    "    note = pretty_midi.Note(velocity=100, pitch=event[0], start=current_time, end=current_time+duration)\n",
    "    \n",
    "    # and add it to the instrument\n",
    "    ins.notes.append(note)\n",
    "    \n",
    "    # increment time\n",
    "    current_time = current_time + duration\n",
    "\n",
    "# add instrument to the score\n",
    "score.instruments.append(ins)"
   ]
  },
  {
   "cell_type": "code",
   "execution_count": 58,
   "metadata": {},
   "outputs": [
    {
     "ename": "NameError",
     "evalue": "name 'snare' is not defined",
     "output_type": "error",
     "traceback": [
      "\u001b[1;31m---------------------------------------------------------------------------\u001b[0m",
      "\u001b[1;31mNameError\u001b[0m                                 Traceback (most recent call last)",
      "\u001b[1;32m<ipython-input-58-e1e93b795d7a>\u001b[0m in \u001b[0;36m<module>\u001b[1;34m()\u001b[0m\n\u001b[0;32m      6\u001b[0m \u001b[1;33m\u001b[0m\u001b[0m\n\u001b[0;32m      7\u001b[0m \u001b[1;31m# iterate through music\u001b[0m\u001b[1;33m\u001b[0m\u001b[1;33m\u001b[0m\u001b[0m\n\u001b[1;32m----> 8\u001b[1;33m \u001b[1;32mfor\u001b[0m \u001b[0mi\u001b[0m\u001b[1;33m,\u001b[0m\u001b[0mevent\u001b[0m \u001b[1;32min\u001b[0m \u001b[0menumerate\u001b[0m\u001b[1;33m(\u001b[0m\u001b[0msnare\u001b[0m\u001b[1;33m)\u001b[0m\u001b[1;33m:\u001b[0m\u001b[1;33m\u001b[0m\u001b[0m\n\u001b[0m\u001b[0;32m      9\u001b[0m \u001b[1;33m\u001b[0m\u001b[0m\n\u001b[0;32m     10\u001b[0m     \u001b[1;31m# unpack event\u001b[0m\u001b[1;33m\u001b[0m\u001b[1;33m\u001b[0m\u001b[0m\n",
      "\u001b[1;31mNameError\u001b[0m: name 'snare' is not defined"
     ]
    }
   ],
   "source": [
    "# create an instrument\n",
    "ins = pretty_midi.Instrument(program=117)\n",
    "\n",
    "# keep track of time\n",
    "current_time = 0\n",
    "\n",
    "# iterate through music\n",
    "for i,event in enumerate(snare):\n",
    "    \n",
    "    # unpack event\n",
    "    pitch, duration = event\n",
    "        \n",
    "    # create a new note\n",
    "    note = pretty_midi.Note(velocity=100, pitch=event[0], start=current_time, end=current_time+duration)\n",
    "    \n",
    "    # and add it to the instrument\n",
    "    ins.notes.append(note)\n",
    "    \n",
    "    # increment time\n",
    "    current_time = current_time + duration\n",
    "\n",
    "# add instrument to the score\n",
    "score.instruments.append(ins)"
   ]
  },
  {
   "cell_type": "code",
   "execution_count": 61,
   "metadata": {},
   "outputs": [],
   "source": [
    "# write to file\n",
    "score.write('drumsolo.mid')"
   ]
  },
  {
   "cell_type": "code",
   "execution_count": null,
   "metadata": {
    "collapsed": true
   },
   "outputs": [],
   "source": []
  }
 ],
 "metadata": {
  "kernelspec": {
   "display_name": "Python 3",
   "language": "python",
   "name": "python3"
  },
  "language_info": {
   "codemirror_mode": {
    "name": "ipython",
    "version": 3
   },
   "file_extension": ".py",
   "mimetype": "text/x-python",
   "name": "python",
   "nbconvert_exporter": "python",
   "pygments_lexer": "ipython3",
   "version": "3.6.1"
  }
 },
 "nbformat": 4,
 "nbformat_minor": 2
}
